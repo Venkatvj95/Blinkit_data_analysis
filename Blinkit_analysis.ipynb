{
 "cells": [
  {
   "cell_type": "markdown",
   "id": "9ed52189-b5c3-49b4-bde8-7c7cc004c25e",
   "metadata": {},
   "source": [
    " ## **Data analysis using python - blinkit**"
   ]
  },
  {
   "cell_type": "markdown",
   "id": "581eba94-c75f-4731-8cd4-bd4669907eaa",
   "metadata": {},
   "source": [
    "#### **Import library**"
   ]
  },
  {
   "cell_type": "code",
   "execution_count": 2,
   "id": "7fc31d40-3a04-4f31-9aa8-d472d31c2820",
   "metadata": {},
   "outputs": [],
   "source": [
    "import pandas as pd\n",
    "import numpy as np\n",
    "import matplotlib.pyplot as plt\n",
    "import seaborn as sns"
   ]
  },
  {
   "cell_type": "markdown",
   "id": "ab45b579-b262-47a1-bc03-be96851a9446",
   "metadata": {},
   "source": [
    "#### Reading Raw Data"
   ]
  },
  {
   "cell_type": "code",
   "execution_count": 3,
   "id": "02fef425-0e70-4e87-9418-0d9595811cca",
   "metadata": {},
   "outputs": [
    {
     "data": {
      "text/html": [
       "<div>\n",
       "<style scoped>\n",
       "    .dataframe tbody tr th:only-of-type {\n",
       "        vertical-align: middle;\n",
       "    }\n",
       "\n",
       "    .dataframe tbody tr th {\n",
       "        vertical-align: top;\n",
       "    }\n",
       "\n",
       "    .dataframe thead th {\n",
       "        text-align: right;\n",
       "    }\n",
       "</style>\n",
       "<table border=\"1\" class=\"dataframe\">\n",
       "  <thead>\n",
       "    <tr style=\"text-align: right;\">\n",
       "      <th></th>\n",
       "      <th>Item Fat Content</th>\n",
       "      <th>Item Identifier</th>\n",
       "      <th>Item Type</th>\n",
       "      <th>Outlet Establishment Year</th>\n",
       "      <th>Outlet Identifier</th>\n",
       "      <th>Outlet Location Type</th>\n",
       "      <th>Outlet Size</th>\n",
       "      <th>Outlet Type</th>\n",
       "      <th>Item Visibility</th>\n",
       "      <th>Item Weight</th>\n",
       "      <th>Sales</th>\n",
       "      <th>Rating</th>\n",
       "    </tr>\n",
       "  </thead>\n",
       "  <tbody>\n",
       "    <tr>\n",
       "      <th>0</th>\n",
       "      <td>Regular</td>\n",
       "      <td>FDX32</td>\n",
       "      <td>Fruits and Vegetables</td>\n",
       "      <td>2012</td>\n",
       "      <td>OUT049</td>\n",
       "      <td>Tier 1</td>\n",
       "      <td>Medium</td>\n",
       "      <td>Supermarket Type1</td>\n",
       "      <td>0.100014</td>\n",
       "      <td>15.10</td>\n",
       "      <td>145.4786</td>\n",
       "      <td>5.0</td>\n",
       "    </tr>\n",
       "    <tr>\n",
       "      <th>1</th>\n",
       "      <td>Low Fat</td>\n",
       "      <td>NCB42</td>\n",
       "      <td>Health and Hygiene</td>\n",
       "      <td>2022</td>\n",
       "      <td>OUT018</td>\n",
       "      <td>Tier 3</td>\n",
       "      <td>Medium</td>\n",
       "      <td>Supermarket Type2</td>\n",
       "      <td>0.008596</td>\n",
       "      <td>11.80</td>\n",
       "      <td>115.3492</td>\n",
       "      <td>5.0</td>\n",
       "    </tr>\n",
       "    <tr>\n",
       "      <th>2</th>\n",
       "      <td>Regular</td>\n",
       "      <td>FDR28</td>\n",
       "      <td>Frozen Foods</td>\n",
       "      <td>2010</td>\n",
       "      <td>OUT046</td>\n",
       "      <td>Tier 1</td>\n",
       "      <td>Small</td>\n",
       "      <td>Supermarket Type1</td>\n",
       "      <td>0.025896</td>\n",
       "      <td>13.85</td>\n",
       "      <td>165.0210</td>\n",
       "      <td>5.0</td>\n",
       "    </tr>\n",
       "    <tr>\n",
       "      <th>3</th>\n",
       "      <td>Regular</td>\n",
       "      <td>FDL50</td>\n",
       "      <td>Canned</td>\n",
       "      <td>2000</td>\n",
       "      <td>OUT013</td>\n",
       "      <td>Tier 3</td>\n",
       "      <td>High</td>\n",
       "      <td>Supermarket Type1</td>\n",
       "      <td>0.042278</td>\n",
       "      <td>12.15</td>\n",
       "      <td>126.5046</td>\n",
       "      <td>5.0</td>\n",
       "    </tr>\n",
       "    <tr>\n",
       "      <th>4</th>\n",
       "      <td>Low Fat</td>\n",
       "      <td>DRI25</td>\n",
       "      <td>Soft Drinks</td>\n",
       "      <td>2015</td>\n",
       "      <td>OUT045</td>\n",
       "      <td>Tier 2</td>\n",
       "      <td>Small</td>\n",
       "      <td>Supermarket Type1</td>\n",
       "      <td>0.033970</td>\n",
       "      <td>19.60</td>\n",
       "      <td>55.1614</td>\n",
       "      <td>5.0</td>\n",
       "    </tr>\n",
       "  </tbody>\n",
       "</table>\n",
       "</div>"
      ],
      "text/plain": [
       "  Item Fat Content Item Identifier              Item Type  \\\n",
       "0          Regular           FDX32  Fruits and Vegetables   \n",
       "1          Low Fat           NCB42     Health and Hygiene   \n",
       "2          Regular           FDR28           Frozen Foods   \n",
       "3          Regular           FDL50                 Canned   \n",
       "4          Low Fat           DRI25            Soft Drinks   \n",
       "\n",
       "   Outlet Establishment Year Outlet Identifier Outlet Location Type  \\\n",
       "0                       2012            OUT049               Tier 1   \n",
       "1                       2022            OUT018               Tier 3   \n",
       "2                       2010            OUT046               Tier 1   \n",
       "3                       2000            OUT013               Tier 3   \n",
       "4                       2015            OUT045               Tier 2   \n",
       "\n",
       "  Outlet Size        Outlet Type  Item Visibility  Item Weight     Sales  \\\n",
       "0      Medium  Supermarket Type1         0.100014        15.10  145.4786   \n",
       "1      Medium  Supermarket Type2         0.008596        11.80  115.3492   \n",
       "2       Small  Supermarket Type1         0.025896        13.85  165.0210   \n",
       "3        High  Supermarket Type1         0.042278        12.15  126.5046   \n",
       "4       Small  Supermarket Type1         0.033970        19.60   55.1614   \n",
       "\n",
       "   Rating  \n",
       "0     5.0  \n",
       "1     5.0  \n",
       "2     5.0  \n",
       "3     5.0  \n",
       "4     5.0  "
      ]
     },
     "execution_count": 3,
     "metadata": {},
     "output_type": "execute_result"
    }
   ],
   "source": [
    "df = pd.read_csv('blinkit_data.csv')"
   ]
  },
  {
   "cell_type": "markdown",
   "id": "1df1cf0b-184f-483a-9395-ae878476cab7",
   "metadata": {},
   "source": [
    "#### Sample Data "
   ]
  },
  {
   "cell_type": "code",
   "execution_count": 5,
   "id": "b561cee9-b278-4d31-a5d4-05b6e2414150",
   "metadata": {},
   "outputs": [
    {
     "data": {
      "text/html": [
       "<div>\n",
       "<style scoped>\n",
       "    .dataframe tbody tr th:only-of-type {\n",
       "        vertical-align: middle;\n",
       "    }\n",
       "\n",
       "    .dataframe tbody tr th {\n",
       "        vertical-align: top;\n",
       "    }\n",
       "\n",
       "    .dataframe thead th {\n",
       "        text-align: right;\n",
       "    }\n",
       "</style>\n",
       "<table border=\"1\" class=\"dataframe\">\n",
       "  <thead>\n",
       "    <tr style=\"text-align: right;\">\n",
       "      <th></th>\n",
       "      <th>Item Fat Content</th>\n",
       "      <th>Item Identifier</th>\n",
       "      <th>Item Type</th>\n",
       "      <th>Outlet Establishment Year</th>\n",
       "      <th>Outlet Identifier</th>\n",
       "      <th>Outlet Location Type</th>\n",
       "      <th>Outlet Size</th>\n",
       "      <th>Outlet Type</th>\n",
       "      <th>Item Visibility</th>\n",
       "      <th>Item Weight</th>\n",
       "      <th>Sales</th>\n",
       "      <th>Rating</th>\n",
       "    </tr>\n",
       "  </thead>\n",
       "  <tbody>\n",
       "    <tr>\n",
       "      <th>0</th>\n",
       "      <td>Regular</td>\n",
       "      <td>FDX32</td>\n",
       "      <td>Fruits and Vegetables</td>\n",
       "      <td>2012</td>\n",
       "      <td>OUT049</td>\n",
       "      <td>Tier 1</td>\n",
       "      <td>Medium</td>\n",
       "      <td>Supermarket Type1</td>\n",
       "      <td>0.100014</td>\n",
       "      <td>15.10</td>\n",
       "      <td>145.4786</td>\n",
       "      <td>5.0</td>\n",
       "    </tr>\n",
       "    <tr>\n",
       "      <th>1</th>\n",
       "      <td>Low Fat</td>\n",
       "      <td>NCB42</td>\n",
       "      <td>Health and Hygiene</td>\n",
       "      <td>2022</td>\n",
       "      <td>OUT018</td>\n",
       "      <td>Tier 3</td>\n",
       "      <td>Medium</td>\n",
       "      <td>Supermarket Type2</td>\n",
       "      <td>0.008596</td>\n",
       "      <td>11.80</td>\n",
       "      <td>115.3492</td>\n",
       "      <td>5.0</td>\n",
       "    </tr>\n",
       "    <tr>\n",
       "      <th>2</th>\n",
       "      <td>Regular</td>\n",
       "      <td>FDR28</td>\n",
       "      <td>Frozen Foods</td>\n",
       "      <td>2010</td>\n",
       "      <td>OUT046</td>\n",
       "      <td>Tier 1</td>\n",
       "      <td>Small</td>\n",
       "      <td>Supermarket Type1</td>\n",
       "      <td>0.025896</td>\n",
       "      <td>13.85</td>\n",
       "      <td>165.0210</td>\n",
       "      <td>5.0</td>\n",
       "    </tr>\n",
       "    <tr>\n",
       "      <th>3</th>\n",
       "      <td>Regular</td>\n",
       "      <td>FDL50</td>\n",
       "      <td>Canned</td>\n",
       "      <td>2000</td>\n",
       "      <td>OUT013</td>\n",
       "      <td>Tier 3</td>\n",
       "      <td>High</td>\n",
       "      <td>Supermarket Type1</td>\n",
       "      <td>0.042278</td>\n",
       "      <td>12.15</td>\n",
       "      <td>126.5046</td>\n",
       "      <td>5.0</td>\n",
       "    </tr>\n",
       "    <tr>\n",
       "      <th>4</th>\n",
       "      <td>Low Fat</td>\n",
       "      <td>DRI25</td>\n",
       "      <td>Soft Drinks</td>\n",
       "      <td>2015</td>\n",
       "      <td>OUT045</td>\n",
       "      <td>Tier 2</td>\n",
       "      <td>Small</td>\n",
       "      <td>Supermarket Type1</td>\n",
       "      <td>0.033970</td>\n",
       "      <td>19.60</td>\n",
       "      <td>55.1614</td>\n",
       "      <td>5.0</td>\n",
       "    </tr>\n",
       "  </tbody>\n",
       "</table>\n",
       "</div>"
      ],
      "text/plain": [
       "  Item Fat Content Item Identifier              Item Type  \\\n",
       "0          Regular           FDX32  Fruits and Vegetables   \n",
       "1          Low Fat           NCB42     Health and Hygiene   \n",
       "2          Regular           FDR28           Frozen Foods   \n",
       "3          Regular           FDL50                 Canned   \n",
       "4          Low Fat           DRI25            Soft Drinks   \n",
       "\n",
       "   Outlet Establishment Year Outlet Identifier Outlet Location Type  \\\n",
       "0                       2012            OUT049               Tier 1   \n",
       "1                       2022            OUT018               Tier 3   \n",
       "2                       2010            OUT046               Tier 1   \n",
       "3                       2000            OUT013               Tier 3   \n",
       "4                       2015            OUT045               Tier 2   \n",
       "\n",
       "  Outlet Size        Outlet Type  Item Visibility  Item Weight     Sales  \\\n",
       "0      Medium  Supermarket Type1         0.100014        15.10  145.4786   \n",
       "1      Medium  Supermarket Type2         0.008596        11.80  115.3492   \n",
       "2       Small  Supermarket Type1         0.025896        13.85  165.0210   \n",
       "3        High  Supermarket Type1         0.042278        12.15  126.5046   \n",
       "4       Small  Supermarket Type1         0.033970        19.60   55.1614   \n",
       "\n",
       "   Rating  \n",
       "0     5.0  \n",
       "1     5.0  \n",
       "2     5.0  \n",
       "3     5.0  \n",
       "4     5.0  "
      ]
     },
     "execution_count": 5,
     "metadata": {},
     "output_type": "execute_result"
    }
   ],
   "source": [
    "df.head()"
   ]
  },
  {
   "cell_type": "markdown",
   "id": "e67b0790-d8b9-47da-b17f-3fb53faf20ed",
   "metadata": {},
   "source": [
    "#### Size of data its mentining rows and columns details"
   ]
  },
  {
   "cell_type": "code",
   "execution_count": 6,
   "id": "d4c3f329-3661-46cd-b78c-0a608a17b98f",
   "metadata": {},
   "outputs": [
    {
     "data": {
      "text/plain": [
       "(8523, 12)"
      ]
     },
     "execution_count": 6,
     "metadata": {},
     "output_type": "execute_result"
    }
   ],
   "source": [
    "df.shape"
   ]
  },
  {
   "cell_type": "markdown",
   "id": "6854d86c-242e-44ee-b81d-e0585661214d",
   "metadata": {},
   "source": [
    "#### Field Names"
   ]
  },
  {
   "cell_type": "code",
   "execution_count": 9,
   "id": "6adf0006-7457-4c8c-8704-1440eb7c5304",
   "metadata": {},
   "outputs": [
    {
     "data": {
      "text/plain": [
       "Index(['Item Fat Content', 'Item Identifier', 'Item Type',\n",
       "       'Outlet Establishment Year', 'Outlet Identifier',\n",
       "       'Outlet Location Type', 'Outlet Size', 'Outlet Type', 'Item Visibility',\n",
       "       'Item Weight', 'Sales', 'Rating'],\n",
       "      dtype='object')"
      ]
     },
     "execution_count": 9,
     "metadata": {},
     "output_type": "execute_result"
    }
   ],
   "source": [
    "df.columns"
   ]
  },
  {
   "cell_type": "markdown",
   "id": "6b7b62b4-c146-41da-b9ed-3fb13361577d",
   "metadata": {},
   "source": [
    "#### Data Types"
   ]
  },
  {
   "cell_type": "code",
   "execution_count": 10,
   "id": "12445a43-a046-40f9-90a4-0cede7ba48e2",
   "metadata": {},
   "outputs": [
    {
     "data": {
      "text/plain": [
       "Item Fat Content              object\n",
       "Item Identifier               object\n",
       "Item Type                     object\n",
       "Outlet Establishment Year      int64\n",
       "Outlet Identifier             object\n",
       "Outlet Location Type          object\n",
       "Outlet Size                   object\n",
       "Outlet Type                   object\n",
       "Item Visibility              float64\n",
       "Item Weight                  float64\n",
       "Sales                        float64\n",
       "Rating                       float64\n",
       "dtype: object"
      ]
     },
     "execution_count": 10,
     "metadata": {},
     "output_type": "execute_result"
    }
   ],
   "source": [
    "df.dtypes"
   ]
  },
  {
   "cell_type": "markdown",
   "id": "4354eb8b-8c0e-442f-85e9-2237d877cef7",
   "metadata": {},
   "source": [
    "####  Cleaning the Item Fat Content Column"
   ]
  },
  {
   "cell_type": "markdown",
   "id": "62d9f120-e612-4e3d-b87f-97abc0502c42",
   "metadata": {},
   "source": [
    "##### First getting the unique values from the column"
   ]
  },
  {
   "cell_type": "code",
   "execution_count": 11,
   "id": "4391df97-687c-4610-b8c6-272a754508db",
   "metadata": {},
   "outputs": [
    {
     "data": {
      "text/plain": [
       "array(['Regular', 'Low Fat', 'low fat', 'LF', 'reg'], dtype=object)"
      ]
     },
     "execution_count": 11,
     "metadata": {},
     "output_type": "execute_result"
    }
   ],
   "source": [
    "df[\"Item Fat Content\"].unique()"
   ]
  },
  {
   "cell_type": "markdown",
   "id": "8c557c94-59a6-45e3-9171-8caaa520e77d",
   "metadata": {},
   "source": [
    "#### Converting the lower case and short words into Proper Names"
   ]
  },
  {
   "cell_type": "code",
   "execution_count": 12,
   "id": "274811c2-81a1-45ae-92d2-2edea5414d41",
   "metadata": {},
   "outputs": [],
   "source": [
    "df[\"Item Fat Content\"] = df[\"Item Fat Content\"].replace({'LF': 'Low Fat',\n",
    "                                                         'reg': 'Regular',\n",
    "                                                          'low fat': 'Low Fat'})"
   ]
  },
  {
   "cell_type": "markdown",
   "id": "f13aeed8-4a56-4332-b4e2-e803e8ab801e",
   "metadata": {},
   "source": [
    "##### Checking the unique values again"
   ]
  },
  {
   "cell_type": "code",
   "execution_count": 14,
   "id": "37c893fd-af37-4e12-b49f-09e1c8756081",
   "metadata": {},
   "outputs": [
    {
     "data": {
      "text/plain": [
       "array(['Regular', 'Low Fat'], dtype=object)"
      ]
     },
     "execution_count": 14,
     "metadata": {},
     "output_type": "execute_result"
    }
   ],
   "source": [
    "df[\"Item Fat Content\"].unique()"
   ]
  },
  {
   "cell_type": "markdown",
   "id": "b5050e16-761c-4de1-bbdc-4dd6c76c4611",
   "metadata": {},
   "source": [
    "## **Bussiness Requirement**"
   ]
  },
  {
   "cell_type": "code",
   "execution_count": 24,
   "id": "741eeaad-8f80-4e5c-b241-510a0dbfeee4",
   "metadata": {},
   "outputs": [
    {
     "data": {
      "text/plain": [
       "np.float64(1201681.4808)"
      ]
     },
     "execution_count": 24,
     "metadata": {},
     "output_type": "execute_result"
    }
   ],
   "source": [
    "# total sales\n",
    "total_sales = df[\"Sales\"].sum()\n",
    "total_sales"
   ]
  },
  {
   "cell_type": "code",
   "execution_count": 18,
   "id": "2d6db57a-3ac3-4434-94b9-1ec12bece49e",
   "metadata": {},
   "outputs": [
    {
     "data": {
      "text/plain": [
       "np.float64(140.9927819781767)"
      ]
     },
     "execution_count": 18,
     "metadata": {},
     "output_type": "execute_result"
    }
   ],
   "source": [
    "# average sales\n",
    "avg_sales = df[\"Sales\"].mean()\n",
    "avg_sales"
   ]
  },
  {
   "cell_type": "code",
   "execution_count": 19,
   "id": "8991c86a-2555-4be5-80c2-2664207125fb",
   "metadata": {},
   "outputs": [
    {
     "data": {
      "text/plain": [
       "np.int64(8523)"
      ]
     },
     "execution_count": 19,
     "metadata": {},
     "output_type": "execute_result"
    }
   ],
   "source": [
    "# total number of items sold\n",
    "total_numberof_items_sold = df[\"Sales\"].count()\n",
    "total_numberof_items_sold"
   ]
  },
  {
   "cell_type": "code",
   "execution_count": 26,
   "id": "80e3e91d-eff0-4e34-8ec5-a4896a4e2d10",
   "metadata": {},
   "outputs": [
    {
     "data": {
      "text/plain": [
       "np.float64(3.965857092573038)"
      ]
     },
     "execution_count": 26,
     "metadata": {},
     "output_type": "execute_result"
    }
   ],
   "source": [
    "# average rating\n",
    "avg_rating = df[\"Rating\"].mean()\n",
    "avg_rating"
   ]
  },
  {
   "cell_type": "code",
   "execution_count": 31,
   "id": "ee322ac1-21fc-4a3a-8062-56d8a879a0b4",
   "metadata": {},
   "outputs": [
    {
     "name": "stdout",
     "output_type": "stream",
     "text": [
      "Total Sales: $1,201,681\n",
      "Avg Sales: $141\n",
      "Total number of items sold: 8523\n",
      "Avg rating: 4\n"
     ]
    }
   ],
   "source": [
    "# Displaying the data\n",
    "print(f\"Total Sales: ${total_sales:,.0f}\")\n",
    "print(f\"Avg Sales: ${avg_sales:,.0f}\")\n",
    "print(f\"Total number of items sold: {total_numberof_items_sold:.0f}\")\n",
    "print(f\"Avg rating: {avg_rating:,.0f}\")"
   ]
  },
  {
   "cell_type": "markdown",
   "id": "72df48d8-ccef-4474-be67-2853fdec353b",
   "metadata": {},
   "source": [
    "## ** Charts Requirement**"
   ]
  },
  {
   "cell_type": "markdown",
   "id": "83ff199b-2673-427b-8953-ca227312cf3d",
   "metadata": {},
   "source": [
    "#### Total sales by fat content"
   ]
  },
  {
   "cell_type": "code",
   "execution_count": null,
   "id": "33263459-7b4d-417c-831e-1490d70462f3",
   "metadata": {},
   "outputs": [],
   "source": []
  }
 ],
 "metadata": {
  "kernelspec": {
   "display_name": "Python 3 (ipykernel)",
   "language": "python",
   "name": "python3"
  },
  "language_info": {
   "codemirror_mode": {
    "name": "ipython",
    "version": 3
   },
   "file_extension": ".py",
   "mimetype": "text/x-python",
   "name": "python",
   "nbconvert_exporter": "python",
   "pygments_lexer": "ipython3",
   "version": "3.13.5"
  }
 },
 "nbformat": 4,
 "nbformat_minor": 5
}
